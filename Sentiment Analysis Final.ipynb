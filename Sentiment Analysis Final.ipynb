{
 "cells": [
  {
   "cell_type": "code",
   "execution_count": null,
   "metadata": {},
   "outputs": [],
   "source": [
    "import pandas as pd\n",
    "import nltk\n",
    "from nltk.corpus import stopwords\n",
    "from textblob import TextBlob"
   ]
  },
  {
   "cell_type": "code",
   "execution_count": null,
   "metadata": {},
   "outputs": [],
   "source": [
    "# takes tweets and put them in a list, opens the election text, splits the elements by tab\n",
    "\n",
    "election_tweets = []\n",
    "\n",
    "with open(\"election.txt\", \"r\", encoding=\"UTF-8\") as ifile:\n",
    "    next(ifile)\n",
    "    for idx, line in enumerate(ifile.readlines()):\n",
    "        line = line.strip().split(\"\\t\")\n",
    "        \n",
    "        if len(line) >= 6:\n",
    "            election_tweets.append((line[2]))"
   ]
  },
  {
   "cell_type": "code",
   "execution_count": null,
   "metadata": {},
   "outputs": [],
   "source": [
    "#takes the tweets in list, and assigns polarity\n",
    "\n",
    "plist = [TextBlob(tweet) for tweet in election_tweets]\n",
    "\n",
    "plist[1].polarity, plist[1]"
   ]
  },
  {
   "cell_type": "code",
   "execution_count": null,
   "metadata": {},
   "outputs": [],
   "source": [
    "#list of polarity and tweets\n",
    "\n",
    "pol = [[tweet.sentiment.polarity, str(tweet)] for tweet in plist]\n",
    "\n",
    "pol[0]"
   ]
  },
  {
   "cell_type": "code",
   "execution_count": null,
   "metadata": {},
   "outputs": [],
   "source": [
    "#creates a data frame from sentiment_values list\n",
    "\n",
    "sent = pd.DataFrame(pol, columns=[\"polarity\", \"tweet\"])\n",
    "\n",
    "sent.head()"
   ]
  },
  {
   "cell_type": "code",
   "execution_count": null,
   "metadata": {},
   "outputs": [],
   "source": [
    "#put the polarity into a csv file to make a histogram in R\n",
    "\n",
    "sent.to_csv('sentiment.csv', sep = '\\t' , encoding = 'utf-8' , index=False)"
   ]
  }
 ],
 "metadata": {
  "kernelspec": {
   "display_name": "Python 3",
   "language": "python",
   "name": "python3"
  },
  "language_info": {
   "codemirror_mode": {
    "name": "ipython",
    "version": 3
   },
   "file_extension": ".py",
   "mimetype": "text/x-python",
   "name": "python",
   "nbconvert_exporter": "python",
   "pygments_lexer": "ipython3",
   "version": "3.7.3"
  }
 },
 "nbformat": 4,
 "nbformat_minor": 2
}
