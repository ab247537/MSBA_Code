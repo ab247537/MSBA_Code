{
 "cells": [
  {
   "cell_type": "code",
   "execution_count": null,
   "metadata": {},
   "outputs": [],
   "source": [
    "import nltk\n",
    "import numpy as np\n",
    "import matplotlib\n",
    "from nltk.probability import FreqDist"
   ]
  },
  {
   "cell_type": "code",
   "execution_count": null,
   "metadata": {},
   "outputs": [],
   "source": [
    "# create a path to the file, and load it in. Specify the column we want to run descriptive statistics on.\n",
    "\n",
    "file_location = \"C:\\\\Users\\\\alist\\\\OneDrive\\\\Desktop\\\\ADA\\\\applied-data-analytics\\\\Web Scraping Project\\\\\"\n",
    "file_name = \"election.txt\"\n",
    "\n",
    "tweet_count = 0\n",
    "descs = []\n",
    "with open(file_location + file_name,'r', encoding = \"Latin-1\") as ifile :\n",
    "    next(ifile)\n",
    "    for idx, line in enumerate(ifile.readlines()) :\n",
    "        line = line.strip().split(\"\\t\")\n",
    "        \n",
    "        if len(line) >= 7 : \n",
    "            descs.extend(line[2].split())\n",
    "            tweet_count += 1"
   ]
  },
  {
   "cell_type": "code",
   "execution_count": null,
   "metadata": {},
   "outputs": [],
   "source": [
    "#counts the amount of rows/tweets\n",
    "\n",
    "print(tweet_count)"
   ]
  },
  {
   "cell_type": "code",
   "execution_count": null,
   "metadata": {},
   "outputs": [],
   "source": [
    "#code to word count text column in dataset\n",
    "\n",
    "len(descs)"
   ]
  },
  {
   "cell_type": "code",
   "execution_count": null,
   "metadata": {},
   "outputs": [],
   "source": [
    "#code to get unique words in the dataset\n",
    "\n",
    "len(set(descs))"
   ]
  },
  {
   "cell_type": "code",
   "execution_count": null,
   "metadata": {},
   "outputs": [],
   "source": [
    "#creates the variable clean_list allowing us to get the most common words and the count\n",
    "\n",
    "stopwords = set(nltk.corpus.stopwords.words(\"english\"))\n",
    "stopwords_sp = set(nltk.corpus.stopwords.words(\"spanish\"))\n",
    "\n",
    "def clean_list(text) :\n",
    "    ''' takes a list of text and returns a new list with \n",
    "        * words cast to lowercase\n",
    "        * stopwords removed\n",
    "        * only alphanumeric words\n",
    "    '''\n",
    "    text_clean = [w.lower() for w in text if w.isalpha()]\n",
    "    text_clean = [w for w in text_clean if w not in stopwords]\n",
    "    text_clean = [w for w in text_clean if w not in stopwords_sp]\n",
    "    return(text_clean)\n",
    "    "
   ]
  },
  {
   "cell_type": "code",
   "execution_count": null,
   "metadata": {},
   "outputs": [],
   "source": [
    "#gives the 20 most common used words in the dataset and the count\n",
    "\n",
    "text_words = clean_list(descs)\n",
    "\n",
    "fd = FreqDist(descs)\n",
    "fd.most_common(20)"
   ]
  },
  {
   "cell_type": "code",
   "execution_count": null,
   "metadata": {},
   "outputs": [],
   "source": [
    "#word count of the top two political parties names including uppercase and lowercase\n",
    "\n",
    "descs_lower = [w.lower() for w in descs if w]\n",
    "print(descs_lower.count('labour'))\n",
    "print(descs_lower.count('conservative'))"
   ]
  },
  {
   "cell_type": "code",
   "execution_count": null,
   "metadata": {},
   "outputs": [],
   "source": [
    "#percentage of tweets that include 'Labour' and 'Conservative'\n",
    "\n",
    "print(descs_lower.count('labour')/tweet_count*100)\n",
    "print(descs_lower.count('conservative')/tweet_count*100)"
   ]
  },
  {
   "cell_type": "code",
   "execution_count": null,
   "metadata": {},
   "outputs": [],
   "source": [
    "#word count for 'Brexit' and percentage of tweets that include the word\n",
    "\n",
    "print(descs_lower.count('brexit'))\n",
    "print(descs_lower.count('brexit')/tweet_count*100)"
   ]
  }
 ],
 "metadata": {
  "kernelspec": {
   "display_name": "Python 3",
   "language": "python",
   "name": "python3"
  },
  "language_info": {
   "codemirror_mode": {
    "name": "ipython",
    "version": 3
   },
   "file_extension": ".py",
   "mimetype": "text/x-python",
   "name": "python",
   "nbconvert_exporter": "python",
   "pygments_lexer": "ipython3",
   "version": "3.7.3"
  }
 },
 "nbformat": 4,
 "nbformat_minor": 2
}
